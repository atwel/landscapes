{
 "cells": [
  {
   "cell_type": "code",
   "execution_count": 15,
   "metadata": {},
   "outputs": [],
   "source": [
    "import numpy as np\n",
    "from scipy import stats\n",
    "import itertools\n",
    "import matplotlib.pyplot as plt\n",
    "from Landscapes import *\n",
    "import pandas as pd\n",
    "from scipy.interpolate import UnivariateSpline\n",
    "import numpy\n"
   ]
  },
  {
   "cell_type": "markdown",
   "metadata": {},
   "source": [
    "# Define key functions to get landscape statistics and local maxima statistics"
   ]
  },
  {
   "cell_type": "code",
   "execution_count": 2,
   "metadata": {},
   "outputs": [],
   "source": [
    "def Get_Landscape_Statistics_Outputs(df,N,K,mycolor=\"b\"):\n",
    "\n",
    "\n",
    "    ##Record the autocorrelation of a random walk\n",
    "    FitnessPath = random_walker(1000, df)\n",
    "    AR = Get_AR(FitnessPath,lag_range=N)\n",
    "\n",
    "\n",
    "    ##Now find the maximum and minimum.\n",
    "    MaximalLocation = df.iloc[:,0].idxmax()    #get the index\n",
    "    MaximalFitness = df.iloc[:,0].max() #get the fitness value\n",
    "    #MaximalFitness2 = df[MaximalLocation,0]\n",
    "    #,MaximalFitness2)\n",
    "    MinimalLocation = df.iloc[:,0].idxmin()\n",
    "    MinimalFitness = df.iloc[:,0].min()\n",
    "\n",
    "    #Get normalized difference between min and max (by dividing by standard deviation)\n",
    "    NormDiff = (MaximalFitness-MinimalFitness)/(df.iloc[:,0].var()**0.5)\n",
    "\n",
    "    #get distance between min and max\n",
    "    Changes = sum(abs(np.array(df.loc[MinimalLocation].Location)-np.array(df.loc[MaximalLocation].Location)))\n",
    "\n",
    "    ####Now generate a statistic that finds how close on average, are the 90th percentile and above\n",
    "    ####fitness to the maximum.\n",
    "    \n",
    "    \n",
    "    \n",
    "    \n",
    "    Percentile_90_Cutoff = (df.iloc[:,0].quantile(.90))\n",
    "    \n",
    "    #get those that pass cutoff\n",
    "    \n",
    "    CutoffPassed = df[ df.iloc[:,0]>= Percentile_90_Cutoff]\n",
    "    \n",
    "    Distances = CutoffPassed['Location'].apply(lambda row : sum(abs(np.array(row)-np.array(df.loc[MaximalLocation].Location))))\n",
    "    \n",
    "    Average_Distance_Percentile_90=Distances.mean()\n",
    "\n",
    "    ##Now Identify the Number of Maxima\n",
    "    Number_Maxima = Count_Local_Maxima(df)\n",
    "    return(Number_Maxima,Average_Distance_Percentile_90,Changes,NormDiff,AR[1],AR[2],AR[3])\n",
    "\n",
    "    plt.figure(figsize=(10,4))\n",
    "    plt.title(\"Auto-correlation by step distance, N={} K={}\".format(N,K),size=24)\n",
    "    plt.grid()\n",
    "    plt.plot(AR,color=mycolor)\n",
    "    plt.show()\n",
    "    print(\"Max Fitness\\t\\t\\t\\t\", MaximalFitness)\n",
    "    print(\"Min Fitness\\t\\t\\t\\t\", MinimalFitness)\n",
    "    print(\"Normed difference in fitness\\t\\t\", NormDiff)\n",
    "    print(\"Distance btw min and max\\t\\t\", Changes)\n",
    "    print(\"Avg distance for 90th percentile to Max\\t\", Average_Distance_Percentile_90)\n",
    "    print(\"Num of Local Maxima\\t\\t\\t\",Number_Maxima)\n",
    "    \n",
    "    "
   ]
  },
  {
   "cell_type": "code",
   "execution_count": 97,
   "metadata": {},
   "outputs": [],
   "source": [
    "def Get_Distance_Global_Maximas(df,N,K,mycolor=\"b\"):\n",
    "\n",
    "\n",
    "    ##Record the autocorrelation of a random walk\n",
    "    #FitnessPath = random_walker(1000, df)\n",
    "    #AR = Get_AR(FitnessPath,lag_range=N)\n",
    "\n",
    "\n",
    "    ##Now find the maximum and minimum.\n",
    "    MaximalLocation = df.iloc[:,0].idxmax()    #get the index\n",
    "    MaximalFitness = df.iloc[:,0].max() #get the fitness value\n",
    "    #MaximalFitness2 = df[MaximalLocation,0]\n",
    "    #,MaximalFitness2)\n",
    "    MinimalLocation = df.iloc[:,0].idxmin()\n",
    "    MinimalFitness = df.iloc[:,0].min()\n",
    "\n",
    "   \n",
    "    Current_Maximas_Model = Local_Maxima_Locations(df)\n",
    "    Current_Maximas_Model = Current_Maximas_Model[Current_Maximas_Model['Maxima']==1]\n",
    "    Number_Maxima = sum(Current_Maximas_Model['Maxima'])\n",
    "    Distances_Maximas_to_Global = Current_Maximas_Model['Location'].apply(lambda row : sum(abs(np.array(row)-np.array(df.loc[MaximalLocation].Location))))\n",
    "    Average_Distances_Maximas_to_Global=Distances_Maximas_to_Global.mean()\n",
    "    Var_Distances_Maximas_to_Global=Distances_Maximas_to_Global.var()\n",
    "    Max_Distances_Maximas_to_Global=Distances_Maximas_to_Global.max()\n",
    "\n",
    "        \n",
    "    return(Number_Maxima,\n",
    "           Average_Distances_Maximas_to_Global,Var_Distances_Maximas_to_Global,Max_Distances_Maximas_to_Global)\n",
    "\n",
    "    plt.figure(figsize=(10,4))\n",
    "    plt.title(\"Auto-correlation by step distance, N={} K={}\".format(N,K),size=24)\n",
    "    plt.grid()\n",
    "    plt.plot(AR,color=mycolor)\n",
    "    plt.show()\n",
    "    print(\"Max Fitness\\t\\t\\t\\t\", MaximalFitness)\n",
    "    print(\"Min Fitness\\t\\t\\t\\t\", MinimalFitness)\n",
    "    print(\"Normed difference in fitness\\t\\t\", NormDiff)\n",
    "    print(\"Distance btw min and max\\t\\t\", Changes)\n",
    "    print(\"Avg distance for 90th percentile to Max\\t\", Average_Distance_Percentile_90)\n",
    "    print(\"Num of Local Maxima\\t\\t\\t\",Number_Maxima)\n",
    "    \n",
    "    "
   ]
  },
  {
   "cell_type": "code",
   "execution_count": 103,
   "metadata": {},
   "outputs": [],
   "source": [
    "\n",
    "def Count_Local_Maxima_Distances(df):\n",
    "    #Set A Maxima counter\n",
    "    Num_Local_Max=0\n",
    "    #Loop over all rows\n",
    "    Distances =[]\n",
    "    MaximalLocation = df.iloc[:,0].idxmax() \n",
    "    for focal_row in df.itertuples():\n",
    "        #Identify the Neighbors (distance of 1 from focal row)\n",
    "        Neighbors = df[df['Location'].apply(lambda row : sum(abs(np.array(row)-np.array(focal_row.Location)))==1)]        #Get the maximum fitness value of the neighbors\n",
    "        Neighbors_Max = max(Neighbors.Fitness) #fitness is indexed at 0 here for some reason\n",
    "\n",
    "        ##See if the neighbors max does not exceed the focal max, if not then it is a local maxima\n",
    "        if Neighbors_Max < focal_row.Fitness: #fitness is indexed at 1 here for some reason\n",
    "            #print('Local Maxima found')\n",
    "            Num_Local_Max += 1\n",
    "            #print(np.array(focal_row))\n",
    "            #print(np.array(df.loc[MaximalLocation].Location))\n",
    "            Dist = sum(abs(np.array(focal_row.Location)-np.array(df.loc[MaximalLocation].Location)))\n",
    "            #don't include global maxima\n",
    "            if Dist !=0:\n",
    "            #Dist = np.array(focal_row)-np.array(df.loc[MaximalLocation].Location)\n",
    "                Distances.append(Dist)\n",
    "                \n",
    "        #Append the focal row at the end\n",
    "    Distances=np.array(Distances)\n",
    "    if len(Distances)>0:\n",
    "        return(Num_Local_Max,Distances.mean(),Distances.var(),Distances.max())\n",
    "    else:\n",
    "        return(0,0,0,0)\n",
    "\n"
   ]
  },
  {
   "cell_type": "code",
   "execution_count": 3,
   "metadata": {},
   "outputs": [],
   "source": [
    "def create_dotSpace(N=10,hypers=[1,1,1,1,1,1,1,1,1,1],masked=False, mask=None):\n",
    "    our_dirichlet = stats.dirichlet(hypers)    \n",
    "    all_permutations = list(itertools.product([0,1],repeat = N))\n",
    "    fitnesses = []\n",
    "    perms = []\n",
    "    transformed_locs = []\n",
    "    for perm in all_permutations:\n",
    "        fitnesses.append(np.dot(perm,our_dirichlet.rvs()[0]))\n",
    "        if masked:\n",
    "            if mask:\n",
    "                perm = transform(perm,mask)\n",
    "            else:\n",
    "                perm = transform(perm)\n",
    "        perms.append(\"\".join([str(i) for i in perm]))\n",
    "        transformed_locs.append(perm)\n",
    "    frame = {\"Fitness\":pd.Series(fitnesses,index=perms), \"Location\":pd.Series(transformed_locs,index=perms)}\n",
    "    return pd.DataFrame(frame)\n",
    "\n",
    "def transform(location, mask=[1,0,1,0,0,0,1,1,1,0]):\n",
    "    assert len(location) == len(mask), \"The mask needs to be same length as the location\"\n",
    "    \n",
    "    return [abs(i-1) if j==1 else i for i,j in zip(location, mask)]\n",
    "\n",
    "def get_iterated_search_walk(Landscape,Neighbor_Distance,Step_Size,Iterations):\n",
    "    #initalize random position\n",
    "    N=len(Landscape.iloc[0].Location)\n",
    "    Position= Position_rand(N)\n",
    "\n",
    "    FitnessHistory=[Landscape.loc[\"\".join([str(i) for i in Position])].Fitness]\n",
    "    #record jumps down\n",
    "    Jump_Down_history=[1]\n",
    "\n",
    "    for j in range(Iterations):\n",
    "\n",
    "        #Identify the Neighbors (distance of M from initial position row)\n",
    "        Neighbors = Landscape[Landscape['Location'].apply(lambda row : sum(abs(np.array(row)-np.array(Landscape.loc[\"\".join([str(i) for i in Position])].Location)))==Neighbor_Distance)]\n",
    "\n",
    "        BetterNeighbors = Neighbors[Neighbors.Fitness>Landscape.loc[\"\".join([str(i) for i in Position])].Fitness]\n",
    "        #randomize order of neighobrs then loop until one exceeds\n",
    "        if len(BetterNeighbors)>0: #only update if there exists at least one superior neighobr\n",
    "            BetterNeighbors.sample(frac=1)#randomly sample better neighbors\n",
    "            Position = BetterNeighbors.index.values[0] #return the first index value\n",
    "            Jump_Down_history.append(0)\n",
    "\n",
    "        #take a step of size Step_Size\n",
    "        else:\n",
    "            Position = Perturbation(Position,Step_Size)\n",
    "            Jump_Down_history.append(1)\n",
    "\n",
    "            #Append to fitness data\n",
    "        fit = Landscape.loc[\"\".join([str(i) for i in Position])].Fitness\n",
    "        FitnessHistory.append(fit)\n",
    "        \n",
    "    return(FitnessHistory,Jump_Down_history)\n",
    "\n",
    "\n",
    "    \n",
    "def Get_Landscape_Summary(df,N):\n",
    "\n",
    "\n",
    "    ##Record the autocorrelation of a random walk\n",
    "    FitnessPath = random_walker(1000, df)\n",
    "    AR = Get_AR(FitnessPath,lag_range=N)\n",
    "\n",
    "    MaximalLocation = df.iloc[:,0].idxmax() #get the index\n",
    "\n",
    "    ####Now generate a statistic that finds how close on average, are the 90th percentile and above\n",
    "    ####fitness to the maximum\n",
    "    Percentile_90_Cutoff = (df.iloc[:,0].quantile(.90))\n",
    "    #get those that pass cutoff\n",
    "    CutoffPassed = df[ df.iloc[:,0]>= Percentile_90_Cutoff]\n",
    "    Distances = CutoffPassed['Location'].apply(lambda row : sum(abs(np.array(row)-np.array(df.loc[MaximalLocation].Location))))\n",
    "    Average_Distance_Percentile_90=Distances.mean()\n",
    "\n",
    "    ##Now Identify the Number of Maxima\n",
    "    Number_Maxima = Count_Local_Maxima(df)\n",
    "\n",
    "    history, jump_history = get_iterated_search_walk(df,1,2,150)\n",
    "    \n",
    "    print(\"Avg distance for 90th percentile to Max\\t\", Average_Distance_Percentile_90)\n",
    "    print(\"Num of Local Maxima\\t\\t\\t\",Number_Maxima)\n",
    "    \n",
    "    print(\"Mean fitness\",df.Fitness.mean())\n",
    "    print(\"S.D. of fitness\", df.Fitness.var()**.5)\n",
    "\n",
    "    f, axarr = plt.subplots(2,2,figsize=(15,10))\n",
    "    axarr[0,0].set_title(\"Auto-correlation by step distance\",size=14)\n",
    "    axarr[0,0].plot(AR,color=\"b\")\n",
    "    axarr[0,1].set_title(\"Random Walk\",size=14)\n",
    "    axarr[0,1].plot(FitnessPath[:250])\n",
    "    axarr[1,0].set_title(\"Iterated Local Search\", size=14)\n",
    "    axarr[1,0].plot((history),'r--o',label='k=1')\n",
    "    axarr[1,0].plot((jump_history),'*',label='k=1_Jump')\n",
    "    axarr[1,0].legend()\n",
    "\n",
    "    axarr[1,1].set_title(\"Fitness Distribution\", size=14)\n",
    "    axarr[1,1].hist(df[\"Fitness\"])\n",
    "    \n",
    "    plt.show()\n",
    "    \n",
    "    cmap=plt.cm.get_cmap('coolwarm')\n",
    "    landscape_as_graph(df,cmap)\n",
    "\n",
    "    \n",
    "def landscape_as_graph(df,cmap):\n",
    "\n",
    "    N=len(df.iloc[0].name)\n",
    "    hypercube = nx.hypercube_graph(N)\n",
    "\n",
    "    colors=[]\n",
    "    fitness_dict = {}\n",
    "    f_min = df.iloc[:,0].min()\n",
    "    f_max = df.iloc[:,0].max()\n",
    "    fractor = 1/(f_max-f_min)\n",
    "    for row, focal_row in df.iterrows():\n",
    "        source_fit = fractor*(focal_row.Fitness - f_min)\n",
    "        fitness_dict[row]= source_fit\n",
    "        colors.append(cmap(source_fit))\n",
    "\n",
    "    nx.set_node_attributes(hypercube,fitness_dict, \"fitness\")\n",
    "\n",
    "    nx.draw(hypercube, node_color=colors, with_labels=False, node_size=50,width=.25)  \n",
    "\n",
    "\n",
    "\n",
    "    "
   ]
  },
  {
   "cell_type": "markdown",
   "metadata": {},
   "source": [
    "# Run Simulations to get statistics"
   ]
  },
  {
   "cell_type": "code",
   "execution_count": null,
   "metadata": {},
   "outputs": [
    {
     "name": "stdout",
     "output_type": "stream",
     "text": [
      "0\n",
      "1\n"
     ]
    }
   ],
   "source": [
    "#Get landscape statistics for the dot model\n",
    "N=10\n",
    "Landscape_stats_dot=[]\n",
    "for K in range(1,10):\n",
    "    for i in range(10):\n",
    "        print(i)\n",
    "        Hypers =[K,K,K,K,K,K,K,K,K,K]\n",
    "        current_land = create_dotSpace(N,Hypers)\n",
    "        Current_Stats = Get_Landscape_Statistics_Outputs(current_land,N,K)\n",
    "        Landscape_stats_dot.append(Current_Stats)\n",
    "      #  Get_Landscape_Statistics(landscape,N,K)\n",
    "#Convert to pandas dataframe and save\n",
    "DF = pd.DataFrame(Landscape_stats_Kauffman,columns=['Number_Maxima','Average_Distance_Percentile_90','Max-Min_Steps',\n",
    "                                          'Normalized_MinMax_Fit_Diff',\n",
    "                                          'Autocorrelation_step_size_1','Autocorrelation_step_size_2','Autocorrelation_step_size_3'])\n",
    "\n",
    "DF['Type'] = 'Dot'\n",
    "DF.to_csv('Dot_Model_Maxima_Stats')\n",
    "    \n"
   ]
  },
  {
   "cell_type": "code",
   "execution_count": 4,
   "metadata": {},
   "outputs": [
    {
     "name": "stdout",
     "output_type": "stream",
     "text": [
      "1\n",
      "0\n",
      "1\n",
      "2\n",
      "3\n",
      "4\n",
      "5\n",
      "6\n",
      "7\n",
      "8\n",
      "9\n",
      "2\n",
      "0\n",
      "1\n",
      "2\n",
      "3\n",
      "4\n",
      "5\n",
      "6\n",
      "7\n",
      "8\n",
      "9\n",
      "3\n",
      "0\n",
      "1\n",
      "2\n",
      "3\n",
      "4\n",
      "5\n",
      "6\n",
      "7\n",
      "8\n",
      "9\n",
      "4\n",
      "0\n",
      "1\n",
      "2\n",
      "3\n",
      "4\n",
      "5\n",
      "6\n",
      "7\n",
      "8\n",
      "9\n",
      "5\n",
      "0\n",
      "1\n",
      "2\n",
      "3\n",
      "4\n",
      "5\n",
      "6\n",
      "7\n",
      "8\n",
      "9\n",
      "6\n",
      "0\n",
      "1\n",
      "2\n",
      "3\n",
      "4\n",
      "5\n",
      "6\n",
      "7\n",
      "8\n",
      "9\n",
      "7\n",
      "0\n",
      "1\n",
      "2\n",
      "3\n",
      "4\n",
      "5\n",
      "6\n",
      "7\n",
      "8\n",
      "9\n",
      "8\n",
      "0\n",
      "1\n",
      "2\n",
      "3\n",
      "4\n",
      "5\n",
      "6\n",
      "7\n",
      "8\n",
      "9\n",
      "9\n",
      "0\n",
      "1\n",
      "2\n",
      "3\n",
      "4\n",
      "5\n",
      "6\n",
      "7\n",
      "8\n",
      "9\n"
     ]
    }
   ],
   "source": [
    "#Get landscape statistics for the NK model\n",
    "\n",
    "N=10\n",
    "Landscape_stats_Kauffman=[]\n",
    "for K in range(1,10):\n",
    "    print(K)\n",
    "    for i in range(10):\n",
    "        print(i)\n",
    "        current_land = make_NK_land(N, K)\n",
    "        Current_Stats = Get_Landscape_Statistics_Outputs(current_land,N,K)\n",
    "        Landscape_stats_Kauffman.append(Current_Stats)    \n",
    "\n",
    "#Convert to pandas dataframe and save\n",
    "DF = pd.DataFrame(Landscape_stats_Kauffman,columns=['Number_Maxima','Average_Distance_Percentile_90','Max-Min_Steps',\n",
    "                                          'Normalized_MinMax_Fit_Diff',\n",
    "                                          'Autocorrelation_step_size_1','Autocorrelation_step_size_2','Autocorrelation_step_size_3'])\n",
    "\n",
    "DF['Type'] = 'Kauffman'\n",
    "DF.to_csv('Kauffman_Model_Maxima_Stats')"
   ]
  },
  {
   "cell_type": "code",
   "execution_count": 164,
   "metadata": {},
   "outputs": [
    {
     "name": "stdout",
     "output_type": "stream",
     "text": [
      "1\n",
      "0\n",
      "1\n",
      "2\n",
      "3\n",
      "4\n",
      "2\n",
      "0\n",
      "1\n",
      "2\n",
      "3\n",
      "4\n",
      "3\n",
      "0\n",
      "1\n",
      "2\n",
      "3\n",
      "4\n",
      "4\n",
      "0\n",
      "1\n",
      "2\n",
      "3\n",
      "4\n",
      "5\n",
      "0\n",
      "1\n",
      "2\n",
      "3\n",
      "4\n",
      "6\n",
      "0\n",
      "1\n",
      "2\n",
      "3\n",
      "4\n",
      "7\n",
      "0\n",
      "1\n",
      "2\n",
      "3\n",
      "4\n",
      "8\n",
      "0\n",
      "1\n",
      "2\n",
      "3\n",
      "4\n",
      "9\n",
      "0\n",
      "1\n",
      "2\n",
      "3\n",
      "4\n"
     ]
    }
   ],
   "source": [
    "#Run simulation to get maxima distance data for the Kauffman NK Model\n",
    "\n",
    "N=10\n",
    "Maxima_Dist_stats_Kauffman=[]\n",
    "for K in range(1,10):\n",
    "    #print(K)\n",
    "    for i in range(5):\n",
    "        print(i)\n",
    "        current_land = make_NK_land(N, K)\n",
    "        Current_Stats = Count_Local_Maxima_Distances(current_land)\n",
    "        Maxima_Dist_stats_Kauffman.append(Current_Stats)\n",
    "      #  Get_Landscape_Statistics(landscape,N,K)\n",
    "#Label Columns for maxima distance data for Kauffman mode and save to csv\n",
    "DFMaxes = pd.DataFrame(Maxima_Dist_stats_Kauffman,columns=['Num_Local_Max','Mean_Distance','Var_Distance','Max_Distance'])\n",
    "\n",
    "DFMaxes['Type'] = 'Kauffman'\n",
    "DFMaxes.to_csv('Kauffman_Model_Maxima_Distance_Stats')\n",
    "\n"
   ]
  },
  {
   "cell_type": "code",
   "execution_count": null,
   "metadata": {},
   "outputs": [],
   "source": [
    "#Run simulation to get maxima distance data for the Dot  Model\n",
    "\n",
    "N=10\n",
    "Maxima_Dist_stats_Dot=[]\n",
    "for K in range(1,10):\n",
    "    for i in range(10):\n",
    "        \n",
    "        Hypers =[K,K,K,K,K,K,K,K,K,K]\n",
    "        current_land = create_dotSpace(N,Hypers)\n",
    "                Current_Stats = Count_Local_Maxima_Distances(current_land)\n",
    "        Maxima_Dist_stats_Dot.append(Current_Stats)\n",
    "    \n",
    "#Do some without uniform hyper-parameters\n",
    "for K in range(1,5):\n",
    "    for i in range(5):\n",
    "        \n",
    "        Hypers =[K,K,K,K+5,K+5,K,K,K,K,K]\n",
    "        current_land = create_dotSpace(N,Hypers)\n",
    "        Current_Stats = Count_Local_Maxima_Distances(current_land)\n",
    "        Maxima_Dist_stats_Dot.append(Current_Stats)\n",
    "\n",
    "\n",
    "\n",
    "#Label Columns for maxima distance data for Kauffman mode and save to csv\n",
    "DFMaxesDot = pd.DataFrame(Maxima_Dist_stats_Dot,columns=['Num_Local_Max','Mean_Distance','Var_Distance','Max_Distance'])\n",
    "\n",
    "DFMaxesDot['Type'] = 'Kauffman'\n",
    "DFMaxesDot.to_csv('Dot_Model_Maxima_Distance_Stats')\n",
    "\n"
   ]
  },
  {
   "cell_type": "markdown",
   "metadata": {},
   "source": [
    "# Analyze Maxima distance Data"
   ]
  },
  {
   "cell_type": "code",
   "execution_count": 79,
   "metadata": {},
   "outputs": [],
   "source": [
    "#Read in data and combine\n",
    "DF=pd.read_csv('Kauffman_Model_Maxima_Stats')\n",
    "DFDot=pd.read_csv('Dot_Model_Maxima_Stats')\n",
    "DFDot['Type']='Dot'\n",
    "DFDot=DFDot.drop(['Unnamed: 0'],axis=1)\n",
    "Df_Combined = DFDot.append(DF)"
   ]
  },
  {
   "cell_type": "code",
   "execution_count": 80,
   "metadata": {},
   "outputs": [
    {
     "data": {
      "image/png": "[encoded data removed]",
      "text/plain": [
       "<matplotlib.figure.Figure at 0x7f74b849e9e8>"
      ]
     },
     "metadata": {
      "needs_background": "light"
     },
     "output_type": "display_data"
    }
   ],
   "source": [
    "#plot by group\n",
    "groups = Df_Combined.groupby(\"Type\")\n",
    "for name, group in groups:\n",
    "    plt.plot(group[\"Number_Maxima\"], group[\"Average_Distance_Percentile_90\"], marker=\"o\", linestyle=\"\", label=name)\n",
    "plt.legend()\n",
    "\n",
    "plt.title(\"\")\n",
    "\n",
    "plt.xlabel(\"Number of Maxima\")\n",
    "plt.ylabel(\"Average Step distance\")\n",
    "plt.savefig('Steps90pcntile_fitness_Dot_Kauffman.png')\n",
    "\n",
    "plt.show()"
   ]
  },
  {
   "cell_type": "code",
   "execution_count": 83,
   "metadata": {},
   "outputs": [
    {
     "data": {
      "image/png": "[encoded data removed]",
      "text/plain": [
       "<matplotlib.figure.Figure at 0x7f7446b2a550>"
      ]
     },
     "metadata": {
      "needs_background": "light"
     },
     "output_type": "display_data"
    }
   ],
   "source": [
    "groups = Df_Combined.groupby(\"Type\")\n",
    "for name, group in groups:\n",
    "    plt.plot(group[\"Number_Maxima\"], group[\"Autocorrelation_step_size_1\"], marker=\"o\", linestyle=\"\", label=name)\n",
    "plt.legend()\n",
    "\n",
    "plt.title(\"\")\n",
    "plt.xlabel(\"Number of Maxima\")\n",
    "plt.ylabel(\"Autocorrelation\")\n",
    "\n",
    "plt.savefig('AR_1_Dot_Kauffman.png')\n",
    "plt.show()\n"
   ]
  },
  {
   "cell_type": "code",
   "execution_count": 84,
   "metadata": {},
   "outputs": [
    {
     "data": {
      "image/png": "[encoded data removed]",
      "text/plain": [
       "<matplotlib.figure.Figure at 0x7f7446b07da0>"
      ]
     },
     "metadata": {
      "needs_background": "light"
     },
     "output_type": "display_data"
    }
   ],
   "source": [
    "groups = Df_Combined.groupby(\"Type\")\n",
    "for name, group in groups:\n",
    "    plt.plot(group[\"Number_Maxima\"], group[\"Autocorrelation_step_size_2\"], marker=\"o\", linestyle=\"\", label=name)\n",
    "plt.legend()\n",
    "\n",
    "plt.title(\"\")\n",
    "plt.xlabel(\"Number of Maxima\")\n",
    "plt.ylabel(\"Autocorrelation\")\n",
    "plt.savefig('AR_2_Dot_Kauffman.png')\n",
    "plt.show()\n"
   ]
  },
  {
   "cell_type": "code",
   "execution_count": 85,
   "metadata": {},
   "outputs": [
    {
     "data": {
      "image/png": "[encoded data removed]",
      "text/plain": [
       "<matplotlib.figure.Figure at 0x7f7447067a20>"
      ]
     },
     "metadata": {
      "needs_background": "light"
     },
     "output_type": "display_data"
    }
   ],
   "source": [
    "groups = Df_Combined.groupby(\"Type\")\n",
    "for name, group in groups:\n",
    "    plt.plot(group[\"Number_Maxima\"], group[\"Autocorrelation_step_size_3\"], marker=\"o\", linestyle=\"\", label=name)\n",
    "plt.legend()\n",
    "\n",
    "plt.title(\"\")\n",
    "plt.xlabel(\"Number of Maxima\")\n",
    "plt.ylabel(\"Autocorrelation\")\n",
    "plt.savefig('AR_3_Dot_Kauffman.png')\n",
    "plt.show()\n"
   ]
  },
  {
   "cell_type": "code",
   "execution_count": 86,
   "metadata": {},
   "outputs": [
    {
     "data": {
      "image/png": "[encoded data removed]",
      "text/plain": [
       "<matplotlib.figure.Figure at 0x7f7446ba0320>"
      ]
     },
     "metadata": {
      "needs_background": "light"
     },
     "output_type": "display_data"
    }
   ],
   "source": [
    "groups = Df_Combined.groupby(\"Type\")\n",
    "for name, group in groups:\n",
    "    plt.plot(group[\"Number_Maxima\"], group[\"Max-Min_Steps\"], marker=\"o\", linestyle=\"\", label=name)\n",
    "plt.legend()\n",
    "\n",
    "plt.title(\"\")\n",
    "plt.xlabel(\"Number of Maxima\")\n",
    "plt.ylabel(\"Steps\")\n",
    "plt.savefig('Max-Min_Steps_Dot_Kauffman.png')\n",
    "plt.show()\n"
   ]
  },
  {
   "cell_type": "code",
   "execution_count": 87,
   "metadata": {},
   "outputs": [
    {
     "data": {
      "image/png": "[encoded data removed]",
      "text/plain": [
       "<matplotlib.figure.Figure at 0x7f7446aa7a20>"
      ]
     },
     "metadata": {
      "needs_background": "light"
     },
     "output_type": "display_data"
    }
   ],
   "source": [
    "groups = Df_Combined.groupby(\"Type\")\n",
    "for name, group in groups:\n",
    "    plt.plot(group[\"Number_Maxima\"], group[\"Normalized_MinMax_Fit_Diff\"], marker=\"o\", linestyle=\"\", label=name)\n",
    "plt.legend()\n",
    "\n",
    "plt.title(\"\")\n",
    "plt.xlabel(\"Number of Maxima\")\n",
    "plt.ylabel(\"normalized fitness difference\")\n",
    "plt.savefig('Max-Min_Fitt_Diff_Dot_Kauffman.png')\n",
    "plt.show()\n"
   ]
  },
  {
   "cell_type": "markdown",
   "metadata": {},
   "source": [
    "# Now Plot distances from local to global maxima"
   ]
  },
  {
   "cell_type": "code",
   "execution_count": 89,
   "metadata": {},
   "outputs": [],
   "source": [
    "#Read in Data and merge\n",
    "DFDistances_Kauffman = pd.read_csv('Kauffman_Model_Maxima_Distance_Stats')\n",
    "DFDistances_Dot = pd.read_csv('Dot_Model_Maxima_Distance_Stats')\n",
    "Df_Distances_Combined = DFDistances_Dot.append(DFDistances_Kauffman)\n",
    "Df_Distances_Combined=Df_Distances_Combined[Df_Distances_Combined['Mean_Distance']>=1]#Drop if no other maxima"
   ]
  },
  {
   "cell_type": "code",
   "execution_count": 90,
   "metadata": {},
   "outputs": [
    {
     "data": {
      "image/png": "[encoded data removed]",
      "text/plain": [
       "<matplotlib.figure.Figure at 0x7f7446b19dd8>"
      ]
     },
     "metadata": {
      "needs_background": "light"
     },
     "output_type": "display_data"
    }
   ],
   "source": [
    "groups = Df_Distances_Combined.groupby(\"Type\")\n",
    "for name, group in groups:\n",
    "    plt.plot(group[\"Num_Local_Max\"], group[\"Mean_Distance\"], marker=\"o\", linestyle=\"\", label=name)\n",
    "plt.legend()\n",
    "\n",
    "plt.title(\"\")\n",
    "plt.xlabel(\"Number of Maxima\")\n",
    "plt.ylabel(\"Steps\")\n",
    "plt.savefig('Mean_Maxima_Distances_to_Global.png')\n",
    "plt.show()\n"
   ]
  },
  {
   "cell_type": "code",
   "execution_count": 49,
   "metadata": {},
   "outputs": [
    {
     "data": {
      "image/png": "[encoded data removed]",
      "text/plain": [
       "<matplotlib.figure.Figure at 0x7f74b84de438>"
      ]
     },
     "metadata": {
      "needs_background": "light"
     },
     "output_type": "display_data"
    }
   ],
   "source": [
    "\n",
    "groups = Df_Distances_Combined.groupby(\"Type\")\n",
    "for name, group in groups:\n",
    "    plt.plot(group[\"Num_Local_Max\"], group[\"Var_Distance\"]**.5, marker=\"o\", linestyle=\"\", label=name)\n",
    "plt.legend(title=\"Model\",)\n",
    "\n",
    "\n",
    "plt.title(\"\")\n",
    "plt.xlabel(\"Number of Maxima\")\n",
    "plt.ylabel(\"Mean Steps\")\n",
    "plt.savefig('SD_Maxima_Distances_to_Global.png')\n",
    "plt.show()\n"
   ]
  },
  {
   "cell_type": "code",
   "execution_count": 91,
   "metadata": {},
   "outputs": [
    {
     "data": {
      "image/png": "[encoded data removed]",
      "text/plain": [
       "<matplotlib.figure.Figure at 0x7f74b844b400>"
      ]
     },
     "metadata": {
      "needs_background": "light"
     },
     "output_type": "display_data"
    }
   ],
   "source": [
    "groups = Df_Distances_Combined.groupby(\"Type\")\n",
    "for name, group in groups:\n",
    "    plt.plot(group[\"Num_Local_Max\"], group[\"Max_Distance\"], marker=\"o\", linestyle=\"\", label=name)\n",
    "plt.legend(title=\"Model\",)\n",
    "\n",
    "plt.title(\"\")\n",
    "plt.xlabel(\"Number of Maxima\")\n",
    "plt.ylabel(\"Standard Deviation of Steps\")\n",
    "plt.savefig('Max_Maxima_Distances_to_Global.png')\n",
    "plt.show()\n"
   ]
  },
  {
   "cell_type": "code",
   "execution_count": null,
   "metadata": {},
   "outputs": [],
   "source": []
  }
 ],
 "metadata": {
  "kernelspec": {
   "display_name": "Python 3",
   "language": "python",
   "name": "python3"
  },
  "language_info": {
   "codemirror_mode": {
    "name": "ipython",
    "version": 3
   },
   "file_extension": ".py",
   "mimetype": "text/x-python",
   "name": "python",
   "nbconvert_exporter": "python",
   "pygments_lexer": "ipython3",
   "version": "3.6.8"
  }
 },
 "nbformat": 4,
 "nbformat_minor": 4
}
