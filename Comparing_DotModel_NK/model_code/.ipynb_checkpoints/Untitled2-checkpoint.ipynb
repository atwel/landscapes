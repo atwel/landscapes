{
 "cells": [
  {
   "cell_type": "code",
   "execution_count": 11,
   "metadata": {},
   "outputs": [],
   "source": [
    "\n",
    "\n",
    "\n",
    "##Import packages and files\n",
    "from itertools import compress, product\n",
    "import numpy as np\n",
    "import matplotlib.pyplot as plt\n",
    "import array\n",
    "import random\n",
    "import pandas as pd\n",
    "import itertools\n",
    "import operator\n",
    "import importlib\n",
    "#import functions defining the layered landscape\n",
    "from LayeredLandscapeFunctions import *\n",
    "from Landscapes import *\n",
    "#import networkx as nx\n",
    "import datetime"
   ]
  },
  {
   "cell_type": "code",
   "execution_count": 12,
   "metadata": {},
   "outputs": [],
   "source": [
    "def create_dotSpace(N=10,hypers=[1,1,1,1,1,1,1,1,1,1],masked=False, mask=None):\n",
    "    our_dirichlet = stats.dirichlet(hypers)    \n",
    "    all_permutations = list(itertools.product([0,1],repeat = N))\n",
    "    fitnesses = []\n",
    "    perms = []\n",
    "    transformed_locs = []\n",
    "    for perm in all_permutations:\n",
    "        fitnesses.append(np.dot(perm,our_dirichlet.rvs()[0]))\n",
    "        if masked:\n",
    "            if mask:\n",
    "                perm = transform(perm,mask)\n",
    "            else:\n",
    "                perm = transform(perm)\n",
    "        perms.append(\"\".join([str(i) for i in perm]))\n",
    "        transformed_locs.append(perm)\n",
    "    frame = {\"Fitness\":pd.Series(fitnesses,index=perms), \"Location\":pd.Series(transformed_locs,index=perms)}\n",
    "    return pd.DataFrame(frame)\n",
    "\n",
    "\n",
    "def Make_Lon(DF_Landscape, M, D, Num_Perturbs):\n",
    "\n",
    "    ##First get a list of all the Maxima locations\n",
    "    DFMaximas = DF_Landscape[DF_Landscape.Maxima==1].index.values\n",
    "    df = pd.DataFrame(data=None, index=DF_Landscape[DF_Landscape.Maxima==1].index.values, columns=DF_Landscape[DF_Landscape.Maxima==1].index.values,\n",
    "                 dtype=None, copy=False)\n",
    "    df = df.fillna(0) #replace nas with zeros\n",
    "\n",
    "    #loop through every maxima\n",
    "    for Maxima in DFMaximas:\n",
    "        s_star=Maxima #set currrent s_star\n",
    "        i=0\n",
    "        while(i<Num_Perturbs):\n",
    "            s_prime = Perturbation(s_star, D) #perturb\n",
    "            s_prime_star = Hill_Climb_First(s_prime,DF_Landscape, M)  #climb new hill, here find first maxima\n",
    "            #update the transition matrix\n",
    "            df.at[s_star, s_prime_star] =  df.at[s_star, s_prime_star]+1\n",
    "\n",
    "            i = i + 1\n",
    "    return(df)\n"
   ]
  },
  {
   "cell_type": "code",
   "execution_count": 17,
   "metadata": {},
   "outputs": [],
   "source": [
    "\n",
    "\n",
    "def run_dirichlet_experiment():\n",
    "    for K in range(10):\n",
    "        print(\"starting \", K, \"at\", datetime.datetime.now())\n",
    "\n",
    "        N = 10        \n",
    "        ##First define a landscape, then notice all the maximas (it prinds the number of maxima)\n",
    "\n",
    "        for I in range(10):\n",
    "\n",
    "            concentration_params = [K,K,K,K,K,K,K,K,K,K]\n",
    "            \n",
    "            assert len(concentration_params) == N, \"The dirichlet params are not the same count as N\"\n",
    "            \n",
    "            dirichland = create_dotSpace(N=10,hypers=concentration_params,masked=False, mask=None)\n",
    "            \n",
    "            DFWithMaximas = Local_Maxima_Locations(dirichland)\n",
    "            \n",
    "            DFWithMaximas.to_csv(\"N-{}_K={}_I={}_mapping_Dirich_Dot.csv\".format(N,K,I))\n",
    "\n",
    "            LONMatrix = Make_Lon(DFWithMaximas,M = 1,D = 2,Num_Perturbs = 500)\n",
    "\n",
    "            with open(\"N-{}_K={}_I={}_dirich.csv\".format(N,K,I), \"w\") as f:\n",
    "                f.write(LONMatrix.to_csv())\n",
    "                print('writing')\n",
    "        print(\"ended at\", datetime.datetime.now())"
   ]
  },
  {
   "cell_type": "code",
   "execution_count": null,
   "metadata": {},
   "outputs": [
    {
     "name": "stdout",
     "output_type": "stream",
     "text": [
      "starting  0 at 2020-10-11 08:51:24.694157\n"
     ]
    }
   ],
   "source": [
    "run_dirichlet_experiment()"
   ]
  },
  {
   "cell_type": "code",
   "execution_count": null,
   "metadata": {},
   "outputs": [],
   "source": []
  }
 ],
 "metadata": {
  "kernelspec": {
   "display_name": "Python 3",
   "language": "python",
   "name": "python3"
  },
  "language_info": {
   "codemirror_mode": {
    "name": "ipython",
    "version": 3
   },
   "file_extension": ".py",
   "mimetype": "text/x-python",
   "name": "python",
   "nbconvert_exporter": "python",
   "pygments_lexer": "ipython3",
   "version": "3.6.8"
  }
 },
 "nbformat": 4,
 "nbformat_minor": 2
}
