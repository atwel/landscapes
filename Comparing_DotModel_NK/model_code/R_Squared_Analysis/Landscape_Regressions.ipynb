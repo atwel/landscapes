{
 "cells": [
  {
   "cell_type": "code",
   "execution_count": 3,
   "metadata": {},
   "outputs": [],
   "source": [
    "import numpy as np\n",
    "import itertools\n",
    "import matplotlib.pyplot as plt\n",
    "from Landscapes import *\n",
    "import pandas as pd\n",
    "import numpy\n",
    "import sklearn\n",
    "from sklearn.preprocessing import PolynomialFeatures\n",
    "import multiprocessing as mp\n",
    "from sklearn.linear_model import LinearRegression\n",
    "\n"
   ]
  },
  {
   "cell_type": "code",
   "execution_count": 13,
   "metadata": {},
   "outputs": [],
   "source": []
  },
  {
   "cell_type": "code",
   "execution_count": 5,
   "metadata": {},
   "outputs": [],
   "source": [
    "def create_dotSpace(N=10,hypers=[1,1,1,1,1,1,1,1,1,1],masked=False, mask=None):\n",
    "    our_dirichlet = stats.dirichlet(hypers)    \n",
    "    all_permutations = list(itertools.product([0,1],repeat = N))\n",
    "    fitnesses = []\n",
    "    perms = []\n",
    "    transformed_locs = []\n",
    "    for perm in all_permutations:\n",
    "        fitnesses.append(np.dot(perm,our_dirichlet.rvs()[0]))\n",
    "        if masked:\n",
    "            if mask:\n",
    "                perm = transform(perm,mask)\n",
    "            else:\n",
    "                perm = transform(perm)\n",
    "        perms.append(\"\".join([str(i) for i in perm]))\n",
    "        transformed_locs.append(perm)\n",
    "    frame = {\"Fitness\":pd.Series(fitnesses,index=perms), \"Location\":pd.Series(transformed_locs,index=perms)}\n",
    "    return pd.DataFrame(frame)"
   ]
  },
  {
   "cell_type": "code",
   "execution_count": 6,
   "metadata": {},
   "outputs": [],
   "source": [
    "loc_list=['loc_0','loc_1', 'loc_2','loc_3','loc_4','loc_5','loc_6','loc_7','loc_8','loc_9',]\n"
   ]
  },
  {
   "cell_type": "code",
   "execution_count": null,
   "metadata": {},
   "outputs": [],
   "source": [
    "\n",
    "#get polynomial interactions\n",
    "poly = PolynomialFeatures(interaction_only=True,include_bias = False,degree=2)\n",
    "x = poly.fit_transform(current_land[loc_list])\n",
    "y = np.array(current_land.Fitness)\n",
    "model = LinearRegression()\n",
    "model.fit(x, y)\n",
    "r_sq = model.score(x, y)\n",
    "r_sq"
   ]
  },
  {
   "cell_type": "code",
   "execution_count": null,
   "metadata": {},
   "outputs": [],
   "source": [
    "Hypers =[K,K,K,K,K,K,K,K,K,K]\n",
    "current_dot_land = create_dotSpace(N,Hypers)\n",
    "current_dot_land[loc_list] =pd.DataFrame(current_dot_land['Location'].tolist(), index=current_dot_land.index)   \n",
    "#get polynomial interactions\n",
    "poly = PolynomialFeatures(interaction_only=True,include_bias = False,degree=2)\n",
    "x = poly.fit_transform(current_dot_land[loc_list])\n",
    "y = np.array(current_dot_land.Fitness)\n",
    "model = LinearRegression()\n",
    "model.fit(x, y)\n",
    "r_sq = model.score(x, y)\n",
    "r_sq"
   ]
  },
  {
   "cell_type": "code",
   "execution_count": 7,
   "metadata": {},
   "outputs": [],
   "source": [
    "def get_r_squared(Landscape,Poly_Degrees):\n",
    "    #Expand and name locations\n",
    "    loc_list=['loc_0','loc_1', 'loc_2','loc_3','loc_4','loc_5','loc_6','loc_7','loc_8','loc_9',]\n",
    "    Landscape[loc_list] =pd.DataFrame(Landscape['Location'].tolist(), index=Landscape.index) \n",
    "    #get polynomial interactions\n",
    "    poly = PolynomialFeatures(interaction_only=True,include_bias = False,degree=Poly_Degrees)\n",
    "    x = poly.fit_transform(Landscape[loc_list])\n",
    "    #run regression\n",
    "    y = np.array(Landscape.Fitness)\n",
    "    model = LinearRegression()\n",
    "    model.fit(x, y)\n",
    "    r_sq = model.score(x, y)\n",
    "    return(r_sq)\n",
    "                                     \n"
   ]
  },
  {
   "cell_type": "code",
   "execution_count": 8,
   "metadata": {},
   "outputs": [],
   "source": [
    "def get_r_squared_dot(N,K,Poly_Degrees):\n",
    "    print('new')\n",
    "\n",
    "    R_Squared_Results=[]\n",
    "    \n",
    "    #generate 100 landcapes\n",
    "    for I in range(100):\n",
    "        concentration_params = [K,K,K,K,K,K,K,K,K,K]\n",
    "        focal_landscape = create_dotSpace(N,concentration_params)\n",
    "        R_Squared_Results.append(get_r_squared(focal_landscape,Poly_Degrees))\n",
    "    R_Squared_Results=np.array(R_Squared_Results)\n",
    "    return(R_Squared_Results.mean())\n",
    "\n",
    "def get_r_squared_Kauffman(N,K,Poly_Degrees):\n",
    "    print('new')\n",
    "    R_Squared_Results=[]\n",
    "    \n",
    "    #generate 100 landcapes\n",
    "    for I in range(100):\n",
    "        focal_landscape = make_NK_land(N, K)\n",
    "        R_Squared_Results.append(get_r_squared(focal_landscape,Poly_Degrees))\n",
    "    R_Squared_Results=np.array(R_Squared_Results)\n",
    "    return(R_Squared_Results.mean())\n",
    "\n",
    "       \n",
    "\n",
    "\n",
    "       \n",
    "\n"
   ]
  },
  {
   "cell_type": "code",
   "execution_count": 9,
   "metadata": {},
   "outputs": [],
   "source": [
    "#Get a list of various data combinations to implement\n",
    "Combinations = []\n",
    "for k in range(1,10):\n",
    "    for p_degree in range(1,4):\n",
    "        Combinations.append([10,k,p_degree])\n"
   ]
  },
  {
   "cell_type": "code",
   "execution_count": 10,
   "metadata": {},
   "outputs": [
    {
     "data": {
      "text/plain": [
       "[[10, 1, 1],\n",
       " [10, 1, 2],\n",
       " [10, 1, 3],\n",
       " [10, 2, 1],\n",
       " [10, 2, 2],\n",
       " [10, 2, 3],\n",
       " [10, 3, 1],\n",
       " [10, 3, 2],\n",
       " [10, 3, 3],\n",
       " [10, 4, 1],\n",
       " [10, 4, 2],\n",
       " [10, 4, 3],\n",
       " [10, 5, 1],\n",
       " [10, 5, 2],\n",
       " [10, 5, 3],\n",
       " [10, 6, 1],\n",
       " [10, 6, 2],\n",
       " [10, 6, 3],\n",
       " [10, 7, 1],\n",
       " [10, 7, 2],\n",
       " [10, 7, 3],\n",
       " [10, 8, 1],\n",
       " [10, 8, 2],\n",
       " [10, 8, 3],\n",
       " [10, 9, 1],\n",
       " [10, 9, 2],\n",
       " [10, 9, 3]]"
      ]
     },
     "execution_count": 10,
     "metadata": {},
     "output_type": "execute_result"
    }
   ],
   "source": [
    "Combinations"
   ]
  },
  {
   "cell_type": "code",
   "execution_count": null,
   "metadata": {},
   "outputs": [
    {
     "name": "stdout",
     "output_type": "stream",
     "text": [
      "new\n",
      "new\n",
      "new\n",
      "new\n",
      "new\n",
      "new\n",
      "new\n",
      "new\n",
      "new\n",
      "new\n",
      "new\n",
      "new\n",
      "new\n",
      "new\n",
      "new\n",
      "new\n",
      "new\n",
      "new\n",
      "new\n",
      "new\n",
      "new\n",
      "new\n",
      "new\n",
      "new\n",
      "new\n",
      "new\n"
     ]
    }
   ],
   "source": [
    "#loop across combinations to get the R_squared average, also pass in intially the K and the number of degrees\n",
    "R_Squareds_Kauffman = [(x[1],x[2],get_r_squared_Kauffman(x[0],x[1],x[2])) for x in Combinations]"
   ]
  },
  {
   "cell_type": "code",
   "execution_count": 17,
   "metadata": {},
   "outputs": [
    {
     "name": "stdout",
     "output_type": "stream",
     "text": [
      "new\n",
      "new\n",
      "new\n",
      "new\n",
      "new\n",
      "new\n",
      "new\n",
      "new\n",
      "new\n",
      "new\n",
      "new\n",
      "new\n",
      "new\n",
      "new\n",
      "new\n",
      "new\n",
      "new\n",
      "new\n",
      "new\n",
      "new\n",
      "new\n",
      "new\n",
      "new\n",
      "new\n",
      "new\n"
     ]
    }
   ],
   "source": [
    "R_Squareds_Dot = [(x[1],x[2],get_r_squared_dot(x[0],x[1],x[2])) for x in Combinations]"
   ]
  },
  {
   "cell_type": "code",
   "execution_count": 21,
   "metadata": {},
   "outputs": [],
   "source": [
    "Kauff_R_Squared = pd.DataFrame(R_Squareds_Kauffman,columns=['K','Polynomial_Degree','R_Squared'])\n",
    "Kauff_R_Squared['Type']='Kauffman'\n",
    "Dot_R_Squared = pd.DataFrame(R_Squareds_Dot,columns=['K','Polynomial_Degree','R_Squared'])\n",
    "Dot_R_Squared['Type']='Dot'\n",
    "DF_Combined = Dot_R_Squared.append(Kauff_R_Squared)"
   ]
  },
  {
   "cell_type": "code",
   "execution_count": 22,
   "metadata": {},
   "outputs": [],
   "source": [
    "import matplotlib.pyplot as plt\n"
   ]
  },
  {
   "cell_type": "code",
   "execution_count": 35,
   "metadata": {},
   "outputs": [],
   "source": [
    "DF_Combined.to_csv('R_Squared_By_Model_Dot_Kauffman.csv')"
   ]
  },
  {
   "cell_type": "code",
   "execution_count": null,
   "metadata": {},
   "outputs": [],
   "source": []
  },
  {
   "cell_type": "code",
   "execution_count": 33,
   "metadata": {},
   "outputs": [
    {
     "data": {
      "image/png": "[encoded data removed]",
      "text/plain": [
       "<matplotlib.figure.Figure at 0x7f363778ceb8>"
      ]
     },
     "metadata": {
      "needs_background": "light"
     },
     "output_type": "display_data"
    }
   ],
   "source": [
    "##plot it \n",
    "#plot by group\n",
    "groups = DF_Combined.groupby([\"Type\",'Polynomial_Degree'])\n",
    "for name, group in groups:\n",
    "    if name[0]=='Dot':\n",
    "        plt.plot(group[\"K\"], group[\"R_Squared\"], marker=\"o\", linestyle=\"\", label=name)\n",
    "    else:\n",
    "        plt.plot(group[\"K\"], group[\"R_Squared\"], marker=\"*\", linestyle=\"\", label=name)\n",
    "plt.legend()\n",
    "\n",
    "plt.title(\"R squared by model and polynomial degrees\")\n",
    "\n",
    "plt.xlabel(\"K\")\n",
    "plt.ylabel(\"R squared\")\n",
    "plt.savefig('RSquared_Polynomial_Regressions_Compare_Dot_Kauffman.png')\n",
    "\n",
    "plt.show()"
   ]
  },
  {
   "cell_type": "code",
   "execution_count": null,
   "metadata": {},
   "outputs": [],
   "source": []
  }
 ],
 "metadata": {
  "kernelspec": {
   "display_name": "Python 3",
   "language": "python",
   "name": "python3"
  },
  "language_info": {
   "codemirror_mode": {
    "name": "ipython",
    "version": 3
   },
   "file_extension": ".py",
   "mimetype": "text/x-python",
   "name": "python",
   "nbconvert_exporter": "python",
   "pygments_lexer": "ipython3",
   "version": "3.6.9"
  }
 },
 "nbformat": 4,
 "nbformat_minor": 4
}
