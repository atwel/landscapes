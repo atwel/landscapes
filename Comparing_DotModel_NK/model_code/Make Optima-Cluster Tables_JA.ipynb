{
 "cells": [
  {
   "cell_type": "markdown",
   "metadata": {},
   "source": [
    "## This file recreates table 1 of Herrmann et al.\n",
    "\n"
   ]
  },
  {
   "cell_type": "code",
   "execution_count": 2,
   "metadata": {},
   "outputs": [],
   "source": [
    "##Import packages and files\n",
    "from itertools import compress, product\n",
    "import numpy as np\n",
    "import matplotlib.pyplot as plt\n",
    "import array\n",
    "import random\n",
    "import pandas as pd\n",
    "import itertools\n",
    "import operator\n",
    "import importlib\n",
    "#import functions defining the layered landscape\n",
    "from LayeredLandscapeFunctions import *\n",
    "from Landscapes import *\n",
    "import networkx as nx\n"
   ]
  },
  {
   "cell_type": "code",
   "execution_count": 3,
   "metadata": {},
   "outputs": [],
   "source": [
    "##This functions takes as an input the string of file name params,e.g. \"N-10_K1=3_K2=9_I=20\"\n",
    "#then loads in the mapping and generates the table one statistics we want:num_local_optima,num_clusters,fo_bar\n",
    "def Get_Table_1_Stats(our_files,param_combo):\n",
    "    loc_opt = []\n",
    "    num_clusters= []\n",
    "    fo_bars = []\n",
    "    for file_name in our_files:\n",
    "        \n",
    "        if param_combo in file_name:\n",
    "            try:\n",
    "                df_transition = pd.read_csv(str(file_name.replace(\"_mapping\",\"\")))\n",
    "                df_map = pd.read_csv(str(file_name))\n",
    "\n",
    "                df_transition = df_transition.set_index('Unnamed: 0')#reset index\n",
    "\n",
    "                Mat = Markov_Clustering(df_transition) #get markov cluster matrix\n",
    "                MarkClusMatrix = nx.from_numpy_matrix(Mat) #convert to adjacency matrix undirected\n",
    "                ##get the mapping and restrict it to maximas\n",
    "                df_map_restricted = df_map[df_map.Maxima==1]\n",
    "\n",
    "                #get the connected components/clusters\n",
    "                G= nx.Graph(MarkClusMatrix)\n",
    "                Components = list(nx.connected_components(G)) #list the components\n",
    "                df_map_restricted['cluster']=0 #create variable and set to zero\n",
    "                ##loop throught the components and assign clusters\n",
    "                j=0 #number to index number of components\n",
    "                NumComp = len(Components)\n",
    "                for comp in Components:\n",
    "                    for i in comp:\n",
    "                        df_map_restricted['cluster'].iloc[i]=j\n",
    "                    j+=1\n",
    "\n",
    "\n",
    "                #identify cluster with the global maxima\n",
    "                Cluster_of_Maxima = df_map_restricted.loc[df_map_restricted.Fitness.idxmax()].cluster\n",
    "                ##set the table variables\n",
    "                num_local_optima = len(df_map_restricted)\n",
    "                num_clust = NumComp\n",
    "                fo_bar = len(df_map_restricted[df_map_restricted.cluster ==Cluster_of_Maxima ]) / num_local_optima\n",
    "                loc_opt.append(num_local_optima)\n",
    "                num_clusters.append(num_clust)\n",
    "                fo_bars.append(fo_bar)\n",
    "            except:\n",
    "                pass\n",
    "            \n",
    "    return [np.average(loc_opt),np.std(loc_opt),np.average(num_clusters),np.std(num_clusters),np.average(fo_bars),np.std(fo_bars)] \n",
    "\n",
    "\n",
    "\n",
    "\n",
    "    "
   ]
  },
  {
   "cell_type": "code",
   "execution_count": null,
   "metadata": {},
   "outputs": [],
   "source": []
  },
  {
   "cell_type": "code",
   "execution_count": 4,
   "metadata": {},
   "outputs": [],
   "source": [
    "import glob\n",
    "import re\n",
    "import os.path\n",
    "os.getcwd()\n",
    "os.chdir('/Users/adrianapaza/Documents/ResearchProjects/landscapes/')\n",
    "our_files = glob.glob(\"./Results_LON_Simulations/*mapping.csv\")"
   ]
  },
  {
   "cell_type": "code",
   "execution_count": 5,
   "metadata": {},
   "outputs": [],
   "source": [
    "all_files = []\n",
    "for file in our_files:\n",
    "    \n",
    "    if re.findall(\"K1\",file):\n",
    "        all_files.extend(re.findall(\"K1=\\d_K2=\\d\",file))\n",
    "    else:\n",
    "        all_files.extend(re.findall(\"K=\\d\",file))"
   ]
  },
  {
   "cell_type": "code",
   "execution_count": 11,
   "metadata": {},
   "outputs": [
    {
     "data": {
      "text/plain": [
       "{'K1=3_K2=9', 'K=3', 'K=6', 'K=9'}"
      ]
     },
     "execution_count": 11,
     "metadata": {},
     "output_type": "execute_result"
    }
   ],
   "source": [
    "List_file_params = set(all_files)\n",
    "List_file_params"
   ]
  },
  {
   "cell_type": "code",
   "execution_count": 7,
   "metadata": {},
   "outputs": [
    {
     "name": "stderr",
     "output_type": "stream",
     "text": [
      "/Users/adrianapaza/anaconda2/envs/py36/lib/python3.6/site-packages/ipykernel_launcher.py:24: SettingWithCopyWarning: \n",
      "A value is trying to be set on a copy of a slice from a DataFrame.\n",
      "Try using .loc[row_indexer,col_indexer] = value instead\n",
      "\n",
      "See the caveats in the documentation: http://pandas.pydata.org/pandas-docs/stable/user_guide/indexing.html#returning-a-view-versus-a-copy\n",
      "/Users/adrianapaza/anaconda2/envs/py36/lib/python3.6/site-packages/pandas/core/indexing.py:205: SettingWithCopyWarning: \n",
      "A value is trying to be set on a copy of a slice from a DataFrame\n",
      "\n",
      "See the caveats in the documentation: http://pandas.pydata.org/pandas-docs/stable/user_guide/indexing.html#returning-a-view-versus-a-copy\n",
      "  self._setitem_with_indexer(indexer, value)\n",
      "/Users/adrianapaza/anaconda2/envs/py36/lib/python3.6/site-packages/ipykernel_launcher.py:30: SettingWithCopyWarning: \n",
      "A value is trying to be set on a copy of a slice from a DataFrame\n",
      "\n",
      "See the caveats in the documentation: http://pandas.pydata.org/pandas-docs/stable/user_guide/indexing.html#returning-a-view-versus-a-copy\n"
     ]
    }
   ],
   "source": [
    "##Get a list of file names\n",
    "\n",
    "##loop over them\n",
    "Table_Stats = df_ = pd.DataFrame(index=List_file_params, columns=['AVG num_local_optima',\"SD num_optima\",'AVG num_clusters', \"SD clusters\",'AVG fo_bar',\"SD fo_bar\"])\n",
    "\n",
    "for params in List_file_params:\n",
    "    \n",
    "    Table_Stats.loc[params] = Get_Table_1_Stats(our_files,params)\n"
   ]
  },
  {
   "cell_type": "code",
   "execution_count": 16,
   "metadata": {},
   "outputs": [
    {
     "data": {
      "text/html": [
       "<style  type=\"text/css\" >\n",
       "</style><table id=\"T_79523ac0_3c0b_11eb_bd50_8c859051ae59\" ><caption>Standard NK; N=10</caption><thead>    <tr>        <th class=\"blank level0\" ></th>        <th class=\"col_heading level0 col0\" >AVG num_local_optima</th>        <th class=\"col_heading level0 col1\" >SD num_optima</th>        <th class=\"col_heading level0 col2\" >AVG num_clusters</th>        <th class=\"col_heading level0 col3\" >SD clusters</th>        <th class=\"col_heading level0 col4\" >AVG fo_bar</th>        <th class=\"col_heading level0 col5\" >SD fo_bar</th>    </tr></thead><tbody>\n",
       "                <tr>\n",
       "                        <th id=\"T_79523ac0_3c0b_11eb_bd50_8c859051ae59level0_row0\" class=\"row_heading level0 row0\" >K=3</th>\n",
       "                        <td id=\"T_79523ac0_3c0b_11eb_bd50_8c859051ae59row0_col0\" class=\"data row0 col0\" >15.475</td>\n",
       "                        <td id=\"T_79523ac0_3c0b_11eb_bd50_8c859051ae59row0_col1\" class=\"data row0 col1\" >4.0987</td>\n",
       "                        <td id=\"T_79523ac0_3c0b_11eb_bd50_8c859051ae59row0_col2\" class=\"data row0 col2\" >4.45</td>\n",
       "                        <td id=\"T_79523ac0_3c0b_11eb_bd50_8c859051ae59row0_col3\" class=\"data row0 col3\" >1.88348</td>\n",
       "                        <td id=\"T_79523ac0_3c0b_11eb_bd50_8c859051ae59row0_col4\" class=\"data row0 col4\" >0.375659</td>\n",
       "                        <td id=\"T_79523ac0_3c0b_11eb_bd50_8c859051ae59row0_col5\" class=\"data row0 col5\" >0.282082</td>\n",
       "            </tr>\n",
       "            <tr>\n",
       "                        <th id=\"T_79523ac0_3c0b_11eb_bd50_8c859051ae59level0_row1\" class=\"row_heading level0 row1\" >K=6</th>\n",
       "                        <td id=\"T_79523ac0_3c0b_11eb_bd50_8c859051ae59row1_col0\" class=\"data row1 col0\" >48.04</td>\n",
       "                        <td id=\"T_79523ac0_3c0b_11eb_bd50_8c859051ae59row1_col1\" class=\"data row1 col1\" >3.3043</td>\n",
       "                        <td id=\"T_79523ac0_3c0b_11eb_bd50_8c859051ae59row1_col2\" class=\"data row1 col2\" >6.44</td>\n",
       "                        <td id=\"T_79523ac0_3c0b_11eb_bd50_8c859051ae59row1_col3\" class=\"data row1 col3\" >2.0016</td>\n",
       "                        <td id=\"T_79523ac0_3c0b_11eb_bd50_8c859051ae59row1_col4\" class=\"data row1 col4\" >0.339895</td>\n",
       "                        <td id=\"T_79523ac0_3c0b_11eb_bd50_8c859051ae59row1_col5\" class=\"data row1 col5\" >0.233709</td>\n",
       "            </tr>\n",
       "            <tr>\n",
       "                        <th id=\"T_79523ac0_3c0b_11eb_bd50_8c859051ae59level0_row2\" class=\"row_heading level0 row2\" >K=9</th>\n",
       "                        <td id=\"T_79523ac0_3c0b_11eb_bd50_8c859051ae59row2_col0\" class=\"data row2 col0\" >93.775</td>\n",
       "                        <td id=\"T_79523ac0_3c0b_11eb_bd50_8c859051ae59row2_col1\" class=\"data row2 col1\" >4.95221</td>\n",
       "                        <td id=\"T_79523ac0_3c0b_11eb_bd50_8c859051ae59row2_col2\" class=\"data row2 col2\" >8.25</td>\n",
       "                        <td id=\"T_79523ac0_3c0b_11eb_bd50_8c859051ae59row2_col3\" class=\"data row2 col3\" >3.17608</td>\n",
       "                        <td id=\"T_79523ac0_3c0b_11eb_bd50_8c859051ae59row2_col4\" class=\"data row2 col4\" >0.351609</td>\n",
       "                        <td id=\"T_79523ac0_3c0b_11eb_bd50_8c859051ae59row2_col5\" class=\"data row2 col5\" >0.27412</td>\n",
       "            </tr>\n",
       "    </tbody></table>"
      ],
      "text/plain": [
       "<pandas.io.formats.style.Styler at 0x1a1e3ed978>"
      ]
     },
     "execution_count": 16,
     "metadata": {},
     "output_type": "execute_result"
    }
   ],
   "source": [
    "Table_Stats\n",
    "Table_Stats[Table_Stats.index != 'K1=3_K2=9'].style.set_caption(\"Standard NK; N=10\")\n"
   ]
  },
  {
   "cell_type": "markdown",
   "metadata": {},
   "source": []
  },
  {
   "cell_type": "code",
   "execution_count": 14,
   "metadata": {},
   "outputs": [
    {
     "data": {
      "text/plain": [
       "Index(['K1=3_K2=9', 'K=3', 'K=6', 'K=9'], dtype='object')"
      ]
     },
     "execution_count": 14,
     "metadata": {},
     "output_type": "execute_result"
    }
   ],
   "source": [
    "Table_Stats.index"
   ]
  },
  {
   "cell_type": "code",
   "execution_count": 8,
   "metadata": {},
   "outputs": [
    {
     "ename": "NameError",
     "evalue": "name 'Iterated_Local_Search' is not defined",
     "output_type": "error",
     "traceback": [
      "\u001b[0;31m---------------------------------------------------------------------------\u001b[0m",
      "\u001b[0;31mNameError\u001b[0m                                 Traceback (most recent call last)",
      "\u001b[0;32m<ipython-input-8-91d7b285d4b0>\u001b[0m in \u001b[0;36m<module>\u001b[0;34m\u001b[0m\n\u001b[0;32m----> 1\u001b[0;31m \u001b[0mIterated_Local_Search\u001b[0m\u001b[0;34m(\u001b[0m\u001b[0mLandscape1\u001b[0m\u001b[0;34m,\u001b[0m \u001b[0mLandscape2\u001b[0m\u001b[0;34m,\u001b[0m \u001b[0mLandscape_Weights\u001b[0m\u001b[0;34m,\u001b[0m \u001b[0mM\u001b[0m\u001b[0;34m,\u001b[0m \u001b[0mD\u001b[0m\u001b[0;34m,\u001b[0m\u001b[0mt\u001b[0m\u001b[0;34m,\u001b[0m \u001b[0mNumSims\u001b[0m\u001b[0;34m)\u001b[0m\u001b[0;34m\u001b[0m\u001b[0;34m\u001b[0m\u001b[0m\n\u001b[0m\u001b[1;32m      2\u001b[0m \u001b[0;34m\u001b[0m\u001b[0m\n\u001b[1;32m      3\u001b[0m \u001b[0;34m\u001b[0m\u001b[0m\n",
      "\u001b[0;31mNameError\u001b[0m: name 'Iterated_Local_Search' is not defined"
     ]
    }
   ],
   "source": [
    "Iterated_Local_Search(Landscape1, Landscape2, Landscape_Weights, M, D, t, NumSims)\n",
    "\n",
    "\n"
   ]
  },
  {
   "cell_type": "code",
   "execution_count": 12,
   "metadata": {},
   "outputs": [
    {
     "data": {
      "text/html": [
       "<style  type=\"text/css\" >\n",
       "</style><table id=\"T_0c00252c_3c0b_11eb_b1da_8c859051ae59\" ><caption>Hello World</caption><thead>    <tr>        <th class=\"blank level0\" ></th>        <th class=\"col_heading level0 col0\" >AVG num_local_optima</th>        <th class=\"col_heading level0 col1\" >SD num_optima</th>        <th class=\"col_heading level0 col2\" >AVG num_clusters</th>        <th class=\"col_heading level0 col3\" >SD clusters</th>        <th class=\"col_heading level0 col4\" >AVG fo_bar</th>        <th class=\"col_heading level0 col5\" >SD fo_bar</th>    </tr></thead><tbody>\n",
       "                <tr>\n",
       "                        <th id=\"T_0c00252c_3c0b_11eb_b1da_8c859051ae59level0_row0\" class=\"row_heading level0 row0\" >K1=3_K2=9</th>\n",
       "                        <td id=\"T_0c00252c_3c0b_11eb_b1da_8c859051ae59row0_col0\" class=\"data row0 col0\" >64.5</td>\n",
       "                        <td id=\"T_0c00252c_3c0b_11eb_b1da_8c859051ae59row0_col1\" class=\"data row0 col1\" >6.34823</td>\n",
       "                        <td id=\"T_0c00252c_3c0b_11eb_b1da_8c859051ae59row0_col2\" class=\"data row0 col2\" >5.75</td>\n",
       "                        <td id=\"T_0c00252c_3c0b_11eb_b1da_8c859051ae59row0_col3\" class=\"data row0 col3\" >2.55685</td>\n",
       "                        <td id=\"T_0c00252c_3c0b_11eb_b1da_8c859051ae59row0_col4\" class=\"data row0 col4\" >0.381532</td>\n",
       "                        <td id=\"T_0c00252c_3c0b_11eb_b1da_8c859051ae59row0_col5\" class=\"data row0 col5\" >0.274832</td>\n",
       "            </tr>\n",
       "            <tr>\n",
       "                        <th id=\"T_0c00252c_3c0b_11eb_b1da_8c859051ae59level0_row1\" class=\"row_heading level0 row1\" >K=3</th>\n",
       "                        <td id=\"T_0c00252c_3c0b_11eb_b1da_8c859051ae59row1_col0\" class=\"data row1 col0\" >15.475</td>\n",
       "                        <td id=\"T_0c00252c_3c0b_11eb_b1da_8c859051ae59row1_col1\" class=\"data row1 col1\" >4.0987</td>\n",
       "                        <td id=\"T_0c00252c_3c0b_11eb_b1da_8c859051ae59row1_col2\" class=\"data row1 col2\" >4.45</td>\n",
       "                        <td id=\"T_0c00252c_3c0b_11eb_b1da_8c859051ae59row1_col3\" class=\"data row1 col3\" >1.88348</td>\n",
       "                        <td id=\"T_0c00252c_3c0b_11eb_b1da_8c859051ae59row1_col4\" class=\"data row1 col4\" >0.375659</td>\n",
       "                        <td id=\"T_0c00252c_3c0b_11eb_b1da_8c859051ae59row1_col5\" class=\"data row1 col5\" >0.282082</td>\n",
       "            </tr>\n",
       "            <tr>\n",
       "                        <th id=\"T_0c00252c_3c0b_11eb_b1da_8c859051ae59level0_row2\" class=\"row_heading level0 row2\" >K=6</th>\n",
       "                        <td id=\"T_0c00252c_3c0b_11eb_b1da_8c859051ae59row2_col0\" class=\"data row2 col0\" >48.04</td>\n",
       "                        <td id=\"T_0c00252c_3c0b_11eb_b1da_8c859051ae59row2_col1\" class=\"data row2 col1\" >3.3043</td>\n",
       "                        <td id=\"T_0c00252c_3c0b_11eb_b1da_8c859051ae59row2_col2\" class=\"data row2 col2\" >6.44</td>\n",
       "                        <td id=\"T_0c00252c_3c0b_11eb_b1da_8c859051ae59row2_col3\" class=\"data row2 col3\" >2.0016</td>\n",
       "                        <td id=\"T_0c00252c_3c0b_11eb_b1da_8c859051ae59row2_col4\" class=\"data row2 col4\" >0.339895</td>\n",
       "                        <td id=\"T_0c00252c_3c0b_11eb_b1da_8c859051ae59row2_col5\" class=\"data row2 col5\" >0.233709</td>\n",
       "            </tr>\n",
       "            <tr>\n",
       "                        <th id=\"T_0c00252c_3c0b_11eb_b1da_8c859051ae59level0_row3\" class=\"row_heading level0 row3\" >K=9</th>\n",
       "                        <td id=\"T_0c00252c_3c0b_11eb_b1da_8c859051ae59row3_col0\" class=\"data row3 col0\" >93.775</td>\n",
       "                        <td id=\"T_0c00252c_3c0b_11eb_b1da_8c859051ae59row3_col1\" class=\"data row3 col1\" >4.95221</td>\n",
       "                        <td id=\"T_0c00252c_3c0b_11eb_b1da_8c859051ae59row3_col2\" class=\"data row3 col2\" >8.25</td>\n",
       "                        <td id=\"T_0c00252c_3c0b_11eb_b1da_8c859051ae59row3_col3\" class=\"data row3 col3\" >3.17608</td>\n",
       "                        <td id=\"T_0c00252c_3c0b_11eb_b1da_8c859051ae59row3_col4\" class=\"data row3 col4\" >0.351609</td>\n",
       "                        <td id=\"T_0c00252c_3c0b_11eb_b1da_8c859051ae59row3_col5\" class=\"data row3 col5\" >0.27412</td>\n",
       "            </tr>\n",
       "    </tbody></table>"
      ],
      "text/plain": [
       "<pandas.io.formats.style.Styler at 0x1a1df21748>"
      ]
     },
     "execution_count": 12,
     "metadata": {},
     "output_type": "execute_result"
    }
   ],
   "source": []
  },
  {
   "cell_type": "code",
   "execution_count": null,
   "metadata": {},
   "outputs": [],
   "source": []
  }
 ],
 "metadata": {
  "kernelspec": {
   "display_name": "Python 3",
   "language": "python",
   "name": "python3"
  },
  "language_info": {
   "codemirror_mode": {
    "name": "ipython",
    "version": 3
   },
   "file_extension": ".py",
   "mimetype": "text/x-python",
   "name": "python",
   "nbconvert_exporter": "python",
   "pygments_lexer": "ipython3",
   "version": "3.6.8"
  }
 },
 "nbformat": 4,
 "nbformat_minor": 2
}
