{
 "cells": [
  {
   "cell_type": "code",
   "execution_count": 1,
   "metadata": {},
   "outputs": [],
   "source": [
    "from Landscapes import *\n",
    "from Experiment import Make_Lon\n",
    "import numpy as np"
   ]
  },
  {
   "cell_type": "code",
   "execution_count": 11,
   "metadata": {},
   "outputs": [],
   "source": [
    "N=4\n",
    "K=1\n",
    "My_Land = make_NK_land(N, K)"
   ]
  },
  {
   "cell_type": "code",
   "execution_count": 12,
   "metadata": {},
   "outputs": [
    {
     "data": {
      "text/plain": [
       "0000    (0, 0, 0, 0)\n",
       "0001    (0, 0, 0, 1)\n",
       "0010    (0, 0, 1, 0)\n",
       "0011    (0, 0, 1, 1)\n",
       "0100    (0, 1, 0, 0)\n",
       "0101    (0, 1, 0, 1)\n",
       "0110    (0, 1, 1, 0)\n",
       "0111    (0, 1, 1, 1)\n",
       "1000    (1, 0, 0, 0)\n",
       "1001    (1, 0, 0, 1)\n",
       "1010    (1, 0, 1, 0)\n",
       "1011    (1, 0, 1, 1)\n",
       "1100    (1, 1, 0, 0)\n",
       "1101    (1, 1, 0, 1)\n",
       "1110    (1, 1, 1, 0)\n",
       "1111    (1, 1, 1, 1)\n",
       "Name: Location, dtype: object"
      ]
     },
     "execution_count": 12,
     "metadata": {},
     "output_type": "execute_result"
    }
   ],
   "source": [
    "Local_Maxima_Locations(My_Land).Location"
   ]
  },
  {
   "cell_type": "code",
   "execution_count": null,
   "metadata": {},
   "outputs": [
    {
     "name": "stdout",
     "output_type": "stream",
     "text": [
      "1\n",
      "51\n",
      "101\n",
      "151\n",
      "201\n",
      "251\n",
      "301\n",
      "351\n",
      "401\n",
      "451\n",
      "501\n",
      "1\n",
      "51\n",
      "101\n",
      "151\n",
      "201\n",
      "251\n",
      "301\n",
      "351\n",
      "401\n",
      "451\n",
      "501\n",
      "1\n",
      "51\n"
     ]
    }
   ],
   "source": [
    "###NOT the full number of sims\n",
    "import re\n",
    "N = 10\n",
    "#If N=10, 2*2^N=2024\n",
    "Num_Sims = 2**9\n",
    "#Num_Sims = 20\n",
    "\n",
    "\n",
    "Maximas_Reached = []\n",
    "Actual_Maximas = []\n",
    "for K in range(10):\n",
    "    My_Land = make_NK_land(N, K)\n",
    "    for sim in range(Num_Sims):\n",
    "        if sim % 50 ==1:\n",
    "            print(sim)\n",
    "        Position = str((Position_rand(N)))\n",
    "        Position = re.sub(\"[^0-9]\", \"\", Position)\n",
    "        Current_Climb= Hill_Climb_First(Position,My_Land, 1)\n",
    "        Maximas_Reached.append(Current_Climb)\n",
    "    Actual_Maximas.append(Local_Maxima_Locations(My_Land).Location)\n",
    "\n",
    "    "
   ]
  },
  {
   "cell_type": "code",
   "execution_count": 53,
   "metadata": {},
   "outputs": [
    {
     "data": {
      "text/plain": [
       "str"
      ]
     },
     "execution_count": 53,
     "metadata": {},
     "output_type": "execute_result"
    }
   ],
   "source": [
    "Position = np.array(list(str((Position_rand(N)))))\n",
    "\n",
    "kale = ''.join((Position))\n",
    "type(kale)\n"
   ]
  },
  {
   "cell_type": "code",
   "execution_count": null,
   "metadata": {},
   "outputs": [],
   "source": []
  }
 ],
 "metadata": {
  "kernelspec": {
   "display_name": "Python 3",
   "language": "python",
   "name": "python3"
  },
  "language_info": {
   "codemirror_mode": {
    "name": "ipython",
    "version": 3
   },
   "file_extension": ".py",
   "mimetype": "text/x-python",
   "name": "python",
   "nbconvert_exporter": "python",
   "pygments_lexer": "ipython3",
   "version": "3.6.8"
  }
 },
 "nbformat": 4,
 "nbformat_minor": 2
}
