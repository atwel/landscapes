{
 "cells": [
  {
   "cell_type": "code",
   "execution_count": 1,
   "metadata": {},
   "outputs": [],
   "source": [
    "from Landscapes import *\n",
    "import numpy as np"
   ]
  },
  {
   "cell_type": "markdown",
   "metadata": {},
   "source": [
    "## Logic of a Dirichlet model\n",
    "Written by Jon Atwell, 8/18/2020\n",
    "\n",
    "My re-emerging desire to create a Dirichlet model comes from two places: The first is just the sense that the stochasticity of the distribution can be used to create asymmetries in the importance the components of the NK model. The second is the interest in multi-arm bandits for modeling organizational learning. Afterall, the Dirichlet is really independent draws from gamma distributions which then get normalized.\n",
    "\n",
    "If the Dirichlet can break the asymmetry *and* introduce a stochastic component, that'd be some real chef's kiss stuff there! That's the goal."
   ]
  },
  {
   "cell_type": "markdown",
   "metadata": {},
   "source": [
    "## Dirichlet model #1\n",
    "The first alternative I've played around with uses draws from a dirichlet distribution for the creation of scores in the $2^{k+1}$ substrings. \n",
    "\n",
    "Let's say N=7, K=2 and that our Dirichlet has concentration parameters $\\alpha$.\n",
    "\n",
    "Let $X$ be a draw from the distribution, $X = (X_1, X_2, X_3, X_4, X_5, X_6, X_7) \\sim Dir(\\alpha)$\n",
    "\n",
    "Because K=2, each bit has a list of 8 substring configuration:\n",
    "000\n",
    "001\n",
    "010\n",
    "011\n",
    "100\n",
    "101\n",
    "110\n",
    "111\n",
    "\n",
    "In the original model, each one of these has a corresponding fitness drawn from the unit uniform distro.\n",
    "In the Dirichlet model, each fitness is the sum of the Dirichlet values of the $k+1$ bits of the substring, *indexed to the whole bit string and the whole draw from the Dirichlet*\n",
    "\n",
    "For example, let's say our current location in the hypercube is $[1,1,1,1,0,0,0]$.\n",
    "Let's change the 5th bit to a 1, i.e. $[1,1,1,1,1,0,0]$\n",
    "\n",
    "To calculate the fitness of the whole string, we need to find the value associated with the three affected substrings.<br><br>\n",
    "$[1,1,\\underbrace{1,1,1}_{\\text{sub}_1},0,0]$<br>\n",
    "$[1,1,1,\\underbrace{1,1,0}_{\\text{sub}_2},0]$<br>\n",
    "$[1,1,1,1,\\underbrace{1,0,0}_{\\text{sub}_3}]$<br>\n",
    "\n",
    "Let's just focus on $\\text{sub}_1$. The substring is in fact indexed, $[1_3, 1_4, 1_5]$, according to its place in the whole bit string. This is the same as the original model in the sense that there is a unique value for each indexed substring (it's not the same set of substrings for all N bits). But for the fitness value in the Dirichlet model, we make a draw from the distribution, $X = (X_1, X_2, X_3, X_4, X_5, X_6, X_7)$. and use the indexed values to get the fitness value, $W_3$\n",
    "\n",
    "$W_3 = X_3 + X_4 + X_5$ \n",
    "\n",
    "For each of the 7 other possible substring combination, we do a different draw. \n",
    "\n",
    "**In this version of the model, the draw is done once for each indexed combination.** Thus the version is not a stochastic landscape. It only an NK model with a wider range of correlational structure.\n",
    "\n",
    "Now that I've described the model, I can say that the hope is that because the concentration parameters of the Dirichlet can be used to make particular dimensions have higher values, particular dimensions will matter more in search.\n",
    "\n",
    "This might not work in a meaningful way because the contribution of for a particular bit in a substring has the same *expected value*. The real hope is that the higher *variance*, which is a feature of the dimensions with higher weights. \n",
    "\n",
    "$Var[X] = \\frac{\\tilde{\\alpha_i}(1-\\tilde{\\alpha_i})}{1 + \\alpha_0}$<br><br>\n",
    "where $\\alpha_0 = \\sum{\\alpha_i}$ and $\\tilde{\\alpha_i} = \\frac{\\alpha_i}{\\alpha_0}$\n",
    "\n",
    "Accordingly, if $a_i > a_j$, changing the $i$th bit has the potential to have a bigger impact on the fitness outcome. That said, it could be cancelled out by the fact that there are more draws for higher K. \n",
    "\n",
    "<strong>*We just need to actually look at the results of the model in terms of LON structure and search results.*</strong>\n",
    "\n",
    "\n",
    "\n"
   ]
  },
  {
   "cell_type": "code",
   "execution_count": 2,
   "metadata": {},
   "outputs": [],
   "source": [
    "def make_Dirichland(N,K, concentration_params):\n",
    "\n",
    "    our_dirichlet = stats.dirichlet(concentration_params) #the distribution we use\n",
    "\n",
    "    NK_land = np.zeros((N,2**(K+1)))\n",
    "    \n",
    "    fitnesses = []\n",
    "    permutations = []\n",
    "    \n",
    "    all_permutations = list(itertools.product([0,1],repeat=N))\n",
    "\n",
    "    for permutation in all_permutations:\n",
    "\n",
    "        genome_fitness = 0\n",
    "        for currentCharacteristic in np.arange(N):\n",
    "            #get the fitness indices from each k based upon local gene values\n",
    "            \n",
    "            localgenes = permutation[currentCharacteristic:currentCharacteristic+K+1]\n",
    "            \n",
    "            #loop through to next if were are near the nth index\n",
    "            if currentCharacteristic+K+1 > N:\n",
    "                localgenes = np.append(localgenes,permutation[0:currentCharacteristic-(N-K)+1])\n",
    "                indices = list(range(currentCharacteristic,N)) + list(range(currentCharacteristic-(N-K)+1))\n",
    "            else:\n",
    "                indices = list(range(currentCharacteristic,currentCharacteristic+K+1))\n",
    "            \n",
    "            #get index fitness  is stored at\n",
    "            interactIndex = ((2**(np.arange(K+1)*(localgenes)))*localgenes).sum()\n",
    "            \n",
    "            currentVal = NK_land[currentCharacteristic,interactIndex]\n",
    "            #print(currentCharacteristic, interactIndex, currentVal)\n",
    "            if currentVal == 0:\n",
    "                dir_draw = our_dirichlet.rvs()[0]\n",
    "                \n",
    "                currentValues= dir_draw[indices]\n",
    "                print(indices,currentValues)\n",
    "                NK_land[currentCharacteristic,interactIndex] = sum(currentValues)\n",
    "            \n",
    "            #add current value to the running fitness total\n",
    "\n",
    "            genome_fitness += sum(currentValues)\n",
    "        \n",
    "        fitnesses.append(genome_fitness)\n",
    "        permutations.append(\"\".join([str(i) for i in permutation]))\n",
    "    print(NK_land)\n",
    "\n",
    "    df = pd.DataFrame(fitnesses,index=permutations,columns=[\"Fitness\"])\n",
    "    df.loc[:,'Location'] = all_permutations\n",
    "\n",
    "    return df"
   ]
  },
  {
   "cell_type": "code",
   "execution_count": 6,
   "metadata": {},
   "outputs": [],
   "source": [
    "N=10\n",
    "K=8\n",
    "concentration_params =  [10,10,10,10,200,200,10,10,10,10]\n",
    "scalar = 1\n",
    "\n",
    "assert len(concentration_params) == N, \"Concentrations params wrong for given N\""
   ]
  },
  {
   "cell_type": "code",
   "execution_count": 8,
   "metadata": {},
   "outputs": [
    {
     "data": {
      "image/png": "[encoded data removed]",
      "text/plain": [
       "<Figure size 720x288 with 1 Axes>"
      ]
     },
     "metadata": {
      "needs_background": "light"
     },
     "output_type": "display_data"
    },
    {
     "name": "stdout",
     "output_type": "stream",
     "text": [
      "Max Fitness\t\t\t\t 6.667823133918789\n",
      "Min Fitness\t\t\t\t 1.865457183693799\n",
      "Normed difference in fitness\t\t 5.8852622064937\n",
      "Distance btw min and max\t\t 7\n",
      "Avg distance for 90th percentile to Max\t 5.0\n",
      "Num of Local Maxima\t\t\t 68\n"
     ]
    }
   ],
   "source": [
    "Get_Landscape_Statistics(make_Dirichland(N,K,concentration_params),N,K)"
   ]
  },
  {
   "cell_type": "markdown",
   "metadata": {},
   "source": [
    "### Below is code to inspect the relationship between the concentration parameters and mean & variance"
   ]
  },
  {
   "cell_type": "code",
   "execution_count": 43,
   "metadata": {},
   "outputs": [],
   "source": [
    "concentration_params =  [10,10,10,10,20,20,10,10,10,10]\n",
    "our_dirichlet = stats.dirichlet(concentration_params)\n"
   ]
  },
  {
   "cell_type": "code",
   "execution_count": 44,
   "metadata": {},
   "outputs": [],
   "source": [
    "draws = our_dirichlet.rvs(1000)"
   ]
  },
  {
   "cell_type": "code",
   "execution_count": null,
   "metadata": {},
   "outputs": [],
   "source": [
    "np.mean(draws,axis=0)"
   ]
  },
  {
   "cell_type": "code",
   "execution_count": 46,
   "metadata": {},
   "outputs": [
    {
     "data": {
      "text/plain": [
       "array([0.02595364, 0.02456713, 0.02500155, 0.02471222, 0.03288824,\n",
       "       0.03240466, 0.02458692, 0.02526501, 0.02449214, 0.02498179])"
      ]
     },
     "execution_count": 46,
     "metadata": {},
     "output_type": "execute_result"
    }
   ],
   "source": [
    "np.std(draws, axis=0)"
   ]
  },
  {
   "cell_type": "code",
   "execution_count": null,
   "metadata": {},
   "outputs": [],
   "source": []
  },
  {
   "cell_type": "markdown",
   "metadata": {},
   "source": [
    "## Dirichlet model #2\n",
    "\n",
    "In an alternative formulation, the NK model is constructed as in Kauffman, but there is a Dirichlet weighting\n",
    "*as the actor moves to a location in the hypercube*\n",
    "\n",
    "Let N=5, K=2\n",
    "\n",
    "Consider a point in the hypercube.\n",
    "\n",
    "$p_1 = [b_1,b_2,b_3,b_4,b_5]$\n",
    "\n",
    "where $b_i$ is the $i$th bit of string.\n",
    "\n",
    "The fitness contribution of $b_i$ is exactly the same as in the NK model, call it $w_i$ as usual\n",
    "\n",
    "Now consider a draw from a Dirichlet $D = [d_1, d_2, d_3, d_4, d_5]$.\n",
    "\n",
    "The fitness of $p_1$ is: \n",
    "\n",
    "$W(p_1) = d_1*w_1 + d_2*w_2 + d_3*w_3 + d_4*w_4 + d_5*w_5$\n",
    "\n",
    "Conveniently, because the Dirichlet is on the N-simplex, there is no need to re-weight so that all fitness values range from 0 to 1.\n",
    "\n",
    "\n",
    "The fitness is calculated every time an actor visits the point so the landscape is stochastic. I *think* both the mean and variance of points are analytically tractable given the concentration parameters. So it's a multi-arm bandit! \n",
    "\n",
    "\n",
    "\n",
    "**Implementation to come**\n"
   ]
  },
  {
   "cell_type": "code",
   "execution_count": null,
   "metadata": {},
   "outputs": [],
   "source": []
  },
  {
   "cell_type": "code",
   "execution_count": null,
   "metadata": {},
   "outputs": [],
   "source": []
  }
 ],
 "metadata": {
  "kernelspec": {
   "display_name": "Python 3",
   "language": "python",
   "name": "python3"
  },
  "language_info": {
   "codemirror_mode": {
    "name": "ipython",
    "version": 3
   },
   "file_extension": ".py",
   "mimetype": "text/x-python",
   "name": "python",
   "nbconvert_exporter": "python",
   "pygments_lexer": "ipython3",
   "version": "3.7.7"
  }
 },
 "nbformat": 4,
 "nbformat_minor": 4
}
