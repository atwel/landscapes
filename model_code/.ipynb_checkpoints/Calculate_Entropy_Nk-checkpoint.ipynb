{
 "cells": [
  {
   "cell_type": "code",
   "execution_count": 1,
   "metadata": {},
   "outputs": [],
   "source": [
    "from Landscapes import *\n",
    "from Experiment import Make_Lon\n",
    "import numpy as np"
   ]
  },
  {
   "cell_type": "code",
   "execution_count": 11,
   "metadata": {},
   "outputs": [],
   "source": [
    "N=4\n",
    "K=1\n",
    "My_Land = make_NK_land(N, K)"
   ]
  },
  {
   "cell_type": "code",
   "execution_count": 12,
   "metadata": {},
   "outputs": [
    {
     "data": {
      "text/plain": [
       "0000    (0, 0, 0, 0)\n",
       "0001    (0, 0, 0, 1)\n",
       "0010    (0, 0, 1, 0)\n",
       "0011    (0, 0, 1, 1)\n",
       "0100    (0, 1, 0, 0)\n",
       "0101    (0, 1, 0, 1)\n",
       "0110    (0, 1, 1, 0)\n",
       "0111    (0, 1, 1, 1)\n",
       "1000    (1, 0, 0, 0)\n",
       "1001    (1, 0, 0, 1)\n",
       "1010    (1, 0, 1, 0)\n",
       "1011    (1, 0, 1, 1)\n",
       "1100    (1, 1, 0, 0)\n",
       "1101    (1, 1, 0, 1)\n",
       "1110    (1, 1, 1, 0)\n",
       "1111    (1, 1, 1, 1)\n",
       "Name: Location, dtype: object"
      ]
     },
     "execution_count": 12,
     "metadata": {},
     "output_type": "execute_result"
    }
   ],
   "source": [
    "Local_Maxima_Locations(My_Land).Location"
   ]
  },
  {
   "cell_type": "code",
   "execution_count": null,
   "metadata": {},
   "outputs": [],
   "source": [
    "###NOT the full number of sims\n",
    "\n",
    "N = 10\n",
    "#If N=10, 2*2^N=2024\n",
    "Num_Sims = 2**10\n",
    "#Num_Sims = 20\n",
    "\n",
    "concentration_params = params_asymmetrical_neighbor\n",
    "\n",
    "Maximas_Reached = []\n",
    "Actual_Maximas = []\n",
    "for K in range(10):\n",
    "    My_Land = make_NK_land(N, K)\n",
    "    Actual_Maximas.append(Local_Maxima_Locations(My_Land).Location)\n",
    "    for sim in Num_Sims:\n",
    "        if sim%%==100:\n",
    "            print sim\n",
    "        landscape = np.random.rand(N, 2**(K+1))\n",
    "        bit_fits = bit_fitness(landscape,N,K)\n",
    "        our_dirich = stats.dirichlet(concentration_params)\n",
    "        Current_Climb= Hill_Climb_First(Position,My_Land, 1)\n",
    "        Maximas_Reached.append(Current_Climb)\n",
    "\n",
    "    "
   ]
  }
 ],
 "metadata": {
  "kernelspec": {
   "display_name": "Python 3",
   "language": "python",
   "name": "python3"
  },
  "language_info": {
   "codemirror_mode": {
    "name": "ipython",
    "version": 3
   },
   "file_extension": ".py",
   "mimetype": "text/x-python",
   "name": "python",
   "nbconvert_exporter": "python",
   "pygments_lexer": "ipython3",
   "version": "3.6.8"
  }
 },
 "nbformat": 4,
 "nbformat_minor": 2
}
